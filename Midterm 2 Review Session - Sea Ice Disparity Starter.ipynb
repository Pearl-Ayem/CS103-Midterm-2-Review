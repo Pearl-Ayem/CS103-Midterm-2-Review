{
 "cells": [
  {
   "cell_type": "code",
   "execution_count": 1,
   "metadata": {},
   "outputs": [],
   "source": [
    "from cs103 import*\n",
    "from typing import  NamedTuple, List\n",
    "import csv\n"
   ]
  },
  {
   "cell_type": "markdown",
   "metadata": {},
   "source": [
    "#### Step 1a\n",
    "File: Sub-Region sea Ice Trends\n",
    "\n",
    "The file contains information about Sub-region sea ice area in Northern Canadian Waters from 1968 to 2015. It includes data for \n",
    "- Foxe Basin\n",
    "- Kane Basin\n",
    "- Baffin Bay\n",
    "- Beaufort Sea\n",
    "- Canadian Arctic Achipelago\n",
    "- Hudson Bay\n",
    "- Hudson Strait\n",
    "- Davis Strait\n",
    "- North Labrador Sea\n",
    "\n",
    "All sea ice area is in units thousands of square kilometres"
   ]
  },
  {
   "cell_type": "markdown",
   "metadata": {},
   "source": [
    "#### Step 1b\n",
    "\n",
    "Brainstorm some things we can produce as output:\n",
    "\n"
   ]
  },
  {
   "cell_type": "markdown",
   "metadata": {},
   "source": [
    "### In our example we will choose to use this data to find the year with the highest sea ice, year with the lowest sea ice for the Hudson Strait region"
   ]
  },
  {
   "cell_type": "markdown",
   "metadata": {},
   "source": [
    "#### Step 1c\n",
    "Here's an  example that shows the kind of output we expect from this program:\n",
    "```python\n",
    "expect(main('Sub-region sea ice trends.csv'),\n",
    "       Sea_Ice_Disparity(1975,2015,-49))\n",
    "```\n",
    "\n",
    "##### Note: In this example the output is a compound called Sea_Ice_Disparity. The data definition for this compound is provided in the starter file."
   ]
  },
  {
   "cell_type": "code",
   "execution_count": 2,
   "metadata": {},
   "outputs": [],
   "source": [
    "# I will need the year and sea ice area from Hudson Strait from each row (year, Hudson Strait sea ice area (thousands of square kilometres))\n",
    "\n",
    "Sea_Ice_Disparity = NamedTuple ('Sea_Ice_Disparity',[('year_highest', int), #in range [1968,2015]\n",
    "                                                    ('year_lowest', int), #year with lowest sea ice area in range [1968,2015]\n",
    "                                                    ('difference', int)]) \n",
    "# interp. year with highest sea ice area(year_highest), year with lowest sea ice area (year_lowest) \n",
    "#      and the difference in sea ice area between the highest and lowest years. \n",
    "\n",
    "SID1= Sea_Ice_Disparity(1985,2014, -15) #from test file 1\n",
    "SID2= Sea_Ice_Disparity(1969,2002, -10)  #from test file 2\n",
    "SID3= Sea_Ice_Disparity(1972,2010, -47) # from original data file\n",
    "\n",
    "# template based on compound (3 fields)\n",
    "def fn_for_sea_ice_disparity(sid: Sea_Ice_Disparity) -> ...:\n",
    "    return ...(sd.year_highest,\n",
    "               sd.year_lowest,\n",
    "               sd.difference)"
   ]
  },
  {
   "cell_type": "markdown",
   "metadata": {},
   "source": [
    "### Complete the data definitons for this file. \n",
    "\n",
    "### Name your compound data Ice_Coverage. \n",
    "\n",
    "#### Keep in mind we use this data to find the year with the highest sea ice, year with the lowest sea ice for the Hudson Strait region. What fields should Ice_Coverage have? \n",
    "#### hint: It needs only 2 fields\n",
    "\n",
    "To save time give examples only for the first two rows of data in your file. The rest of the examples will be provided to you in class"
   ]
  },
  {
   "cell_type": "code",
   "execution_count": 3,
   "metadata": {},
   "outputs": [],
   "source": [
    "# Write complete data defintions here"
   ]
  },
  {
   "cell_type": "markdown",
   "metadata": {},
   "source": [
    "### 2b and 2c -> design read and the rest of the program"
   ]
  },
  {
   "cell_type": "code",
   "execution_count": 4,
   "metadata": {},
   "outputs": [
    {
     "ename": "NameError",
     "evalue": "name 'Ice_Coverage' is not defined",
     "output_type": "error",
     "traceback": [
      "\u001b[0;31m---------------------------------------------------------------------------\u001b[0m",
      "\u001b[0;31mNameError\u001b[0m                                 Traceback (most recent call last)",
      "\u001b[0;32m<ipython-input-4-f694b2c908f1>\u001b[0m in \u001b[0;36m<module>\u001b[0;34m()\u001b[0m\n\u001b[1;32m      8\u001b[0m \u001b[0;34m\u001b[0m\u001b[0m\n\u001b[1;32m      9\u001b[0m \u001b[0;34m@\u001b[0m\u001b[0mtypecheck\u001b[0m\u001b[0;34m\u001b[0m\u001b[0m\n\u001b[0;32m---> 10\u001b[0;31m \u001b[0;32mdef\u001b[0m \u001b[0mread\u001b[0m\u001b[0;34m(\u001b[0m\u001b[0mfn\u001b[0m\u001b[0;34m:\u001b[0m \u001b[0mstr\u001b[0m\u001b[0;34m)\u001b[0m \u001b[0;34m->\u001b[0m \u001b[0mList\u001b[0m\u001b[0;34m[\u001b[0m\u001b[0mIce_Coverage\u001b[0m\u001b[0;34m]\u001b[0m\u001b[0;34m:\u001b[0m\u001b[0;34m\u001b[0m\u001b[0m\n\u001b[0m\u001b[1;32m     11\u001b[0m     \"\"\"    \n\u001b[1;32m     12\u001b[0m     \u001b[0mReads\u001b[0m \u001b[0mthe\u001b[0m \u001b[0mfile\u001b[0m \u001b[0;32mfrom\u001b[0m \u001b[0mgiven\u001b[0m \u001b[0mfilename\u001b[0m \u001b[0;32mand\u001b[0m \u001b[0mreturns\u001b[0m \u001b[0ma\u001b[0m \u001b[0mlist\u001b[0m \u001b[0mof\u001b[0m \u001b[0mthe\u001b[0m\u001b[0;34m\u001b[0m\u001b[0m\n",
      "\u001b[0;31mNameError\u001b[0m: name 'Ice_Coverage' is not defined"
     ]
    }
   ],
   "source": [
    "@typecheck\n",
    "def main(fn: str) -> ...:\n",
    "    \"\"\"\n",
    "    Reads the file from given filename and returns the Sea_Ice_Disparity of the given data\n",
    "    \"\"\"\n",
    "    # template as a function composition\n",
    "    return analyze(read(fn))    \n",
    "    \n",
    "@typecheck\n",
    "def read(fn: str) -> List[Ice_Coverage]:\n",
    "    \"\"\"    \n",
    "    Reads the file from given filename and returns a list of the\n",
    "    Ice_Coverage\n",
    "    \"\"\"\n",
    "    #return []   #stub\n",
    "    #template from HtDAP\n",
    "    \n",
    "    # loc contains the result so far\n",
    "    loc = [] # type: List[Consumed]\n",
    "    \n",
    "    with open(fn, encoding = \"ISO-8859-1\") as csvfile:\n",
    "        reader = csv.reader(csvfile, delimiter=',')\n",
    "        \n",
    "        next(reader) # skip header line for row in reader:\n",
    "        for row in reader:\n",
    "            # you may not need to store all the rows, and you may need to convert some of the strings to other types \n",
    "            c = Consumed(row[0], ... ,row[n])\n",
    "            loc.append(c) \n",
    "    return loc \n",
    "\n",
    "@typecheck\n",
    "def analyze(loic: List[Ice_Coverage]) -> ...:\n",
    "    \"\"\"\n",
    "    return the Sea_Ice_Disparity using the given list of Ice Coverage data\n",
    "    \"\"\"\n",
    "    \n",
    "        \n",
    "@typecheck\n",
    "def is_valid(s1: str,s2: str) -> ...:\n",
    "    \"\"\"\n",
    "    return True if none of the above given strings are empty, False otherwise\n",
    "    \"\"\"\n",
    "    \n",
    "    \n",
    "\n",
    "@typecheck\n",
    "def higher_ice_coverage(ic1: Ice_Coverage, ic2: Ice_Coverage) -> ...:\n",
    "    \"\"\"\n",
    "    return the Ice_Coverage data with the highest ice coverage\n",
    "    \"\"\"\n",
    "        \n",
    "    \n",
    "def lower_ice_coverage(ic1: Ice_Coverage, ic2: Ice_Coverage) -> ...:\n",
    "    \"\"\"\n",
    "    return the Ice_Coverage data with the lowest ice coverage\n",
    "    \"\"\"\n",
    "    \n",
    "    \n",
    "def difference_in_coverage(ic1: Ice_Coverage, ic2: Ice_Coverage) -> ...:\n",
    "    \"\"\"\n",
    "    return the difference in the ice coverage between 2 years\n",
    "    \"\"\"\n",
    "    \n",
    "\n",
    "\n",
    "start_testing()\n",
    "#tests for main\n",
    "expect(main(\"Sub-region sea ice area trends.csv\"), SID3)\n",
    "expect(main(\"Sub-region sea ice area trends test 1.csv\"), SID1)\n",
    "expect(main(\"Sub-region sea ice area trends test 2.csv\"), SID2)\n",
    "\n",
    "#tests for analyze\n",
    "expect(analyze(L0), None)\n",
    "expect(analyze(L1), SID1)\n",
    "expect(analyze(L2), SID2)\n",
    "\n",
    "#tests for is_valid\n",
    "expect(is_valid(\"hello\",\"hi\"), True)\n",
    "expect(is_valid(\"     \",\"hi\"), False)\n",
    "\n",
    "#tests for higher_ice_coverage\n",
    "expect(higher_ice_coverage(IC1_1,IC1_3), IC1_3)\n",
    "expect(higher_ice_coverage(IC1_3,IC1_2), IC1_2)\n",
    "expect(higher_ice_coverage(IC1_2,IC1_3), IC1_2)\n",
    "\n",
    "#tests for lower_ice_coverage\n",
    "expect(lower_ice_coverage(IC1_1,IC1_3), IC1_3)\n",
    "expect(lower_ice_coverage(IC1_3,IC1_2), IC1_3)\n",
    "expect(lower_ice_coverage(IC1_2,IC1_3), IC1_3)\n",
    "\n",
    "#tests for difference_in_coverage\n",
    "expect(difference_in_coverage(IC1_1,IC1_3), 0)\n",
    "expect(difference_in_coverage(IC1_3,IC1_2), -6)\n",
    "expect(difference_in_coverage(IC1_2,IC1_3), 6)\n",
    "\n",
    "summary()"
   ]
  },
  {
   "cell_type": "code",
   "execution_count": null,
   "metadata": {},
   "outputs": [],
   "source": []
  },
  {
   "cell_type": "code",
   "execution_count": null,
   "metadata": {},
   "outputs": [],
   "source": []
  }
 ],
 "metadata": {
  "kernelspec": {
   "display_name": "Python 3",
   "language": "python",
   "name": "python3"
  },
  "language_info": {
   "codemirror_mode": {
    "name": "ipython",
    "version": 3
   },
   "file_extension": ".py",
   "mimetype": "text/x-python",
   "name": "python",
   "nbconvert_exporter": "python",
   "pygments_lexer": "ipython3",
   "version": "3.6.4"
  }
 },
 "nbformat": 4,
 "nbformat_minor": 2
}
